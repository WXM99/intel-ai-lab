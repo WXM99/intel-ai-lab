{
 "cells": [
  {
   "cell_type": "markdown",
   "metadata": {},
   "source": [
    "## Handwritten Image Detection with Keras using MNIST data\n",
    "\n",
    "In this exercise we will work with image data: specifically the famous MNIST data set.  This data set contains 70,000 images of handwritten digits in grayscale (0=black, 255 = white).  The images are 28 pixels by 28 pixels for a total of 784 pixels.  This is quite small by image standards.  Also, the images are well centered and isolated.  This makes this problem solvable with standard fully connected neural nets without too much pre-work."
   ]
  },
  {
   "cell_type": "markdown",
   "metadata": {},
   "source": [
    "In the first part of this notebook, we will walk you through loading in the data, building a network, and training it.  Then it will be your turn to try different models and see if you can improve performance"
   ]
  },
  {
   "cell_type": "code",
   "execution_count": 15,
   "metadata": {},
   "outputs": [],
   "source": [
    "# Preliminaries\n",
    "\n",
    "from __future__ import print_function\n",
    "\n",
    "import keras\n",
    "from keras.datasets import mnist\n",
    "from keras.models import Sequential\n",
    "from keras.layers import Dense, Dropout\n",
    "from keras.optimizers import RMSprop\n",
    "\n",
    "import numpy as np\n",
    "import matplotlib.pyplot as plt\n",
    "%matplotlib inline"
   ]
  },
  {
   "cell_type": "markdown",
   "metadata": {
    "collapsed": true
   },
   "source": [
    "Let's explore the dataset a little bit"
   ]
  },
  {
   "cell_type": "code",
   "execution_count": 16,
   "metadata": {},
   "outputs": [],
   "source": [
    "# Load the data, shuffled and split between train and test sets\n",
    "(x_train, y_train), (x_test, y_test) = mnist.load_data(\"../MNIST\")"
   ]
  },
  {
   "cell_type": "code",
   "execution_count": 17,
   "metadata": {},
   "outputs": [
    {
     "data": {
      "text/plain": [
       "(28, 28)"
      ]
     },
     "execution_count": 17,
     "metadata": {},
     "output_type": "execute_result"
    }
   ],
   "source": [
    "x_train[0].shape"
   ]
  },
  {
   "cell_type": "code",
   "execution_count": 18,
   "metadata": {},
   "outputs": [
    {
     "data": {
      "text/plain": [
       "array([[  0,   0,   0,   0,   0,   0,   0,   0,   0,   0,   0,   0,   0,\n",
       "          0,   0,   0,   0,   0,   0,   0,   0,   0,   0,   0,   0,   0,\n",
       "          0,   0],\n",
       "       [  0,   0,   0,   0,   0,   0,   0,   0,   0,   0,   0,   0,   0,\n",
       "          0,   0,   0,   0,   0,   0,   0,   0,   0,   0,   0,   0,   0,\n",
       "          0,   0],\n",
       "       [  0,   0,   0,   0,   0,   0,   0,   0,   0,   0,   0,   0,   0,\n",
       "          0,   0,   0,   0,   0,   0,   0,   0,   0,   0,   0,   0,   0,\n",
       "          0,   0],\n",
       "       [  0,   0,   0,   0,   0,   0,   0,   0,   0,   0,   0,   0,   0,\n",
       "          0,   0,   0,   0,   0,   0,   0,   0,   0,   0,   0,   0,   0,\n",
       "          0,   0],\n",
       "       [  0,   0,   0,   0,   0,   0,   0,   0,   0,   0,   0,   0,   0,\n",
       "          0,   0,   0,   0,   0,   0,   0,   0,   0,   0,   0,   0,   0,\n",
       "          0,   0],\n",
       "       [  0,   0,   0,   0,   0,   0,   0,   0,   0,   0,   0,  87, 138,\n",
       "        170, 253, 201, 244, 212, 222, 138,  86,  22,   0,   0,   0,   0,\n",
       "          0,   0],\n",
       "       [  0,   0,   0,   0,   0,   0,   0,   0,   0,   0,  95, 253, 252,\n",
       "        252, 252, 252, 253, 252, 252, 252, 252, 245,  80,   0,   0,   0,\n",
       "          0,   0],\n",
       "       [  0,   0,   0,   0,   0,   0,   0,   0,   0,  68, 246, 205,  69,\n",
       "         69,  69,  69,  69,  69,  69,  69, 205, 253, 240,  50,   0,   0,\n",
       "          0,   0],\n",
       "       [  0,   0,   0,   0,   0,   0,   0,   0,   0, 187, 252, 218,  34,\n",
       "          0,   0,   0,   0,   0,   0,   0, 116, 253, 252,  69,   0,   0,\n",
       "          0,   0],\n",
       "       [  0,   0,   0,   0,   0,   0,   0,   0, 116, 248, 252, 253,  92,\n",
       "          0,   0,   0,   0,   0,   0,  95, 230, 253, 157,   6,   0,   0,\n",
       "          0,   0],\n",
       "       [  0,   0,   0,   0,   0,   0,   0,   0, 116, 249, 253, 189,  42,\n",
       "          0,   0,   0,   0,  36, 170, 253, 243, 158,   0,   0,   0,   0,\n",
       "          0,   0],\n",
       "       [  0,   0,   0,   0,   0,   0,   0,   0,   0, 133, 252, 245, 140,\n",
       "         34,   0,   0,  57, 219, 252, 235,  60,   0,   0,   0,   0,   0,\n",
       "          0,   0],\n",
       "       [  0,   0,   0,   0,   0,   0,   0,   0,   0,  25, 205, 253, 252,\n",
       "        234, 184, 184, 253, 240, 100,  44,   0,   0,   0,   0,   0,   0,\n",
       "          0,   0],\n",
       "       [  0,   0,   0,   0,   0,   0,   0,   0,   0,   0,  21, 161, 219,\n",
       "        252, 252, 252, 234,  37,   0,   0,   0,   0,   0,   0,   0,   0,\n",
       "          0,   0],\n",
       "       [  0,   0,   0,   0,   0,   0,   0,   0,   0,   0,   0,  11, 203,\n",
       "        252, 252, 252, 251, 135,   0,   0,   0,   0,   0,   0,   0,   0,\n",
       "          0,   0],\n",
       "       [  0,   0,   0,   0,   0,   0,   0,   0,   0,   9,  76, 255, 253,\n",
       "        205, 168, 220, 255, 253, 137,   5,   0,   0,   0,   0,   0,   0,\n",
       "          0,   0],\n",
       "       [  0,   0,   0,   0,   0,   0,   0,   0,   0, 114, 252, 249, 132,\n",
       "         25,   0,   0, 180, 252, 252,  45,   0,   0,   0,   0,   0,   0,\n",
       "          0,   0],\n",
       "       [  0,   0,   0,   0,   0,   0,   0,   0,  51, 220, 252, 199,   0,\n",
       "          0,   0,   0,  38, 186, 252, 154,   7,   0,   0,   0,   0,   0,\n",
       "          0,   0],\n",
       "       [  0,   0,   0,   0,   0,   0,   0,   0, 184, 252, 252,  21,   0,\n",
       "          0,   0,   0,   0,  67, 252, 252,  22,   0,   0,   0,   0,   0,\n",
       "          0,   0],\n",
       "       [  0,   0,   0,   0,   0,   0,   0,   0, 184, 252, 200,   0,   0,\n",
       "          0,   0,   0,   0,  47, 252, 252,  22,   0,   0,   0,   0,   0,\n",
       "          0,   0],\n",
       "       [  0,   0,   0,   0,   0,   0,   0,   0, 185, 253, 201,   0,   0,\n",
       "          0,   0,   0,   3, 118, 253, 245,  21,   0,   0,   0,   0,   0,\n",
       "          0,   0],\n",
       "       [  0,   0,   0,   0,   0,   0,   0,   0, 163, 252, 252,   0,   0,\n",
       "          0,   0,   0,  97, 252, 252,  87,   0,   0,   0,   0,   0,   0,\n",
       "          0,   0],\n",
       "       [  0,   0,   0,   0,   0,   0,   0,   0,  51, 240, 252, 123,  70,\n",
       "         70, 112, 184, 222, 252, 170,  13,   0,   0,   0,   0,   0,   0,\n",
       "          0,   0],\n",
       "       [  0,   0,   0,   0,   0,   0,   0,   0,   0, 165, 252, 253, 252,\n",
       "        252, 252, 252, 245, 139,  13,   0,   0,   0,   0,   0,   0,   0,\n",
       "          0,   0],\n",
       "       [  0,   0,   0,   0,   0,   0,   0,   0,   0,   9,  75, 253, 252,\n",
       "        221, 137, 137,  21,   0,   0,   0,   0,   0,   0,   0,   0,   0,\n",
       "          0,   0],\n",
       "       [  0,   0,   0,   0,   0,   0,   0,   0,   0,   0,   0,   0,   0,\n",
       "          0,   0,   0,   0,   0,   0,   0,   0,   0,   0,   0,   0,   0,\n",
       "          0,   0],\n",
       "       [  0,   0,   0,   0,   0,   0,   0,   0,   0,   0,   0,   0,   0,\n",
       "          0,   0,   0,   0,   0,   0,   0,   0,   0,   0,   0,   0,   0,\n",
       "          0,   0],\n",
       "       [  0,   0,   0,   0,   0,   0,   0,   0,   0,   0,   0,   0,   0,\n",
       "          0,   0,   0,   0,   0,   0,   0,   0,   0,   0,   0,   0,   0,\n",
       "          0,   0]], dtype=uint8)"
      ]
     },
     "execution_count": 18,
     "metadata": {},
     "output_type": "execute_result"
    }
   ],
   "source": [
    "#Let's just look at a particular example to see what is inside\n",
    "\n",
    "x_train[333]  ## Just a 28 x 28 numpy array of ints from 0 to 255"
   ]
  },
  {
   "cell_type": "code",
   "execution_count": 19,
   "metadata": {},
   "outputs": [
    {
     "data": {
      "text/plain": [
       "8"
      ]
     },
     "execution_count": 19,
     "metadata": {},
     "output_type": "execute_result"
    }
   ],
   "source": [
    "# What is the corresponding label in the training set?\n",
    "y_train[333]"
   ]
  },
  {
   "cell_type": "code",
   "execution_count": 20,
   "metadata": {},
   "outputs": [
    {
     "data": {
      "text/plain": [
       "<matplotlib.image.AxesImage at 0x653ff3a10>"
      ]
     },
     "execution_count": 20,
     "metadata": {},
     "output_type": "execute_result"
    },
    {
     "data": {
      "image/png": "[encoded data removed]",
      "text/plain": [
       "<Figure size 432x288 with 1 Axes>"
      ]
     },
     "metadata": {
      "needs_background": "light"
     },
     "output_type": "display_data"
    }
   ],
   "source": [
    "# Let's see what this image actually looks like\n",
    "plt.imshow(x_train[333], cmap='Greys_r')"
   ]
  },
  {
   "cell_type": "code",
   "execution_count": 21,
   "metadata": {},
   "outputs": [
    {
     "name": "stdout",
     "output_type": "stream",
     "text": [
      "(60000, 28, 28) train samples\n",
      "(10000, 28, 28) test samples\n"
     ]
    }
   ],
   "source": [
    "# this is the shape of the np.array x_train\n",
    "# it is 3 dimensional.\n",
    "print(x_train.shape, 'train samples')\n",
    "print(x_test.shape, 'test samples')"
   ]
  },
  {
   "cell_type": "code",
   "execution_count": 22,
   "metadata": {},
   "outputs": [],
   "source": [
    "## For our purposes, these images are just a vector of 784 inputs, so let's convert\n",
    "x_train = x_train.reshape(len(x_train), 28*28)\n",
    "x_test = x_test.reshape(len(x_test), 28*28)\n",
    "\n",
    "## Keras works with floats, so we must cast the numbers to floats\n",
    "x_train = x_train.astype('float32')\n",
    "x_test = x_test.astype('float32')\n",
    "\n",
    "## Normalize the inputs so they are between 0 and 1\n",
    "x_train /= 255\n",
    "x_test /= 255\n"
   ]
  },
  {
   "cell_type": "code",
   "execution_count": 23,
   "metadata": {},
   "outputs": [
    {
     "data": {
      "text/plain": [
       "array([0., 0., 0., 0., 0., 0., 0., 0., 1., 0.], dtype=float32)"
      ]
     },
     "execution_count": 23,
     "metadata": {},
     "output_type": "execute_result"
    }
   ],
   "source": [
    "# convert class vectors to binary class matrices\n",
    "num_classes = 10\n",
    "y_train = keras.utils.to_categorical(y_train, num_classes)\n",
    "y_test = keras.utils.to_categorical(y_test, num_classes)\n",
    "\n",
    "y_train[333]  # now the digit k is represented by a 1 in the kth entry (0-indexed) of the length 10 vector"
   ]
  },
  {
   "cell_type": "code",
   "execution_count": 27,
   "metadata": {},
   "outputs": [],
   "source": [
    "# We will build a model with two hidden layers of size 512\n",
    "# Fully connected inputs at each layer\n",
    "# We will use dropout of .2 to help regularize\n",
    "model_1 = Sequential()\n",
    "model_1.add(Dense(64, activation='relu', input_shape=(784,)))\n",
    "model_1.add(Dropout(0.2))\n",
    "model_1.add(Dense(64, activation='relu'))\n",
    "model_1.add(Dropout(0.2))\n",
    "model_1.add(Dense(10, activation='softmax'))"
   ]
  },
  {
   "cell_type": "code",
   "execution_count": 28,
   "metadata": {},
   "outputs": [
    {
     "name": "stdout",
     "output_type": "stream",
     "text": [
      "Model: \"sequential_3\"\n",
      "_________________________________________________________________\n",
      "Layer (type)                 Output Shape              Param #   \n",
      "=================================================================\n",
      "dense_7 (Dense)              (None, 64)                50240     \n",
      "_________________________________________________________________\n",
      "dropout_5 (Dropout)          (None, 64)                0         \n",
      "_________________________________________________________________\n",
      "dense_8 (Dense)              (None, 64)                4160      \n",
      "_________________________________________________________________\n",
      "dropout_6 (Dropout)          (None, 64)                0         \n",
      "_________________________________________________________________\n",
      "dense_9 (Dense)              (None, 10)                650       \n",
      "=================================================================\n",
      "Total params: 55,050\n",
      "Trainable params: 55,050\n",
      "Non-trainable params: 0\n",
      "_________________________________________________________________\n"
     ]
    }
   ],
   "source": [
    "## Note that this model has a LOT of parameters\n",
    "model_1.summary()"
   ]
  },
  {
   "cell_type": "markdown",
   "metadata": {
    "collapsed": true
   },
   "source": [
    "Let's compile the model\n",
    "- note that `categorical cross entropy` is the natural generalization \n",
    "- of the loss function we had in binary classification case, to multi class case"
   ]
  },
  {
   "cell_type": "code",
   "execution_count": 29,
   "metadata": {},
   "outputs": [],
   "source": [
    "learning_rate = .001\n",
    "model_1.compile(loss='categorical_crossentropy',\n",
    "              optimizer=RMSprop(lr=learning_rate),\n",
    "              metrics=['accuracy'])"
   ]
  },
  {
   "cell_type": "code",
   "execution_count": 30,
   "metadata": {},
   "outputs": [
    {
     "name": "stdout",
     "output_type": "stream",
     "text": [
      "Train on 60000 samples, validate on 10000 samples\n",
      "Epoch 1/30\n",
      "60000/60000 [==============================] - 2s 29us/step - loss: 0.5174 - accuracy: 0.8457 - val_loss: 0.2014 - val_accuracy: 0.9389\n",
      "Epoch 2/30\n",
      "60000/60000 [==============================] - 2s 26us/step - loss: 0.2490 - accuracy: 0.9263 - val_loss: 0.1481 - val_accuracy: 0.9544\n",
      "Epoch 3/30\n",
      "60000/60000 [==============================] - 2s 25us/step - loss: 0.1986 - accuracy: 0.9415 - val_loss: 0.1307 - val_accuracy: 0.9600\n",
      "Epoch 4/30\n",
      "60000/60000 [==============================] - 2s 26us/step - loss: 0.1710 - accuracy: 0.9488 - val_loss: 0.1183 - val_accuracy: 0.9648\n",
      "Epoch 5/30\n",
      "60000/60000 [==============================] - 2s 26us/step - loss: 0.1524 - accuracy: 0.9547 - val_loss: 0.1059 - val_accuracy: 0.9693\n",
      "Epoch 6/30\n",
      "60000/60000 [==============================] - 2s 34us/step - loss: 0.1394 - accuracy: 0.9590 - val_loss: 0.1015 - val_accuracy: 0.9702\n",
      "Epoch 7/30\n",
      "60000/60000 [==============================] - 2s 31us/step - loss: 0.1301 - accuracy: 0.9617 - val_loss: 0.0991 - val_accuracy: 0.9720\n",
      "Epoch 8/30\n",
      "60000/60000 [==============================] - 2s 33us/step - loss: 0.1222 - accuracy: 0.9628 - val_loss: 0.0953 - val_accuracy: 0.9731\n",
      "Epoch 9/30\n",
      "60000/60000 [==============================] - 2s 30us/step - loss: 0.1209 - accuracy: 0.9646 - val_loss: 0.0939 - val_accuracy: 0.9743\n",
      "Epoch 10/30\n",
      "60000/60000 [==============================] - 2s 27us/step - loss: 0.1123 - accuracy: 0.9665 - val_loss: 0.0935 - val_accuracy: 0.9713\n",
      "Epoch 11/30\n",
      "60000/60000 [==============================] - 2s 29us/step - loss: 0.1087 - accuracy: 0.9680 - val_loss: 0.0949 - val_accuracy: 0.9738\n",
      "Epoch 12/30\n",
      "60000/60000 [==============================] - 2s 30us/step - loss: 0.1068 - accuracy: 0.9679 - val_loss: 0.0923 - val_accuracy: 0.9742\n",
      "Epoch 13/30\n",
      "60000/60000 [==============================] - 2s 28us/step - loss: 0.1005 - accuracy: 0.9691 - val_loss: 0.0929 - val_accuracy: 0.9734\n",
      "Epoch 14/30\n",
      "60000/60000 [==============================] - 2s 29us/step - loss: 0.0988 - accuracy: 0.9703 - val_loss: 0.0926 - val_accuracy: 0.9746\n",
      "Epoch 15/30\n",
      "60000/60000 [==============================] - 2s 29us/step - loss: 0.0967 - accuracy: 0.9711 - val_loss: 0.0912 - val_accuracy: 0.9750\n",
      "Epoch 16/30\n",
      "60000/60000 [==============================] - 2s 31us/step - loss: 0.0957 - accuracy: 0.9714 - val_loss: 0.0912 - val_accuracy: 0.9756\n",
      "Epoch 17/30\n",
      "60000/60000 [==============================] - 2s 29us/step - loss: 0.0921 - accuracy: 0.9727 - val_loss: 0.0977 - val_accuracy: 0.9755\n",
      "Epoch 18/30\n",
      "60000/60000 [==============================] - 2s 28us/step - loss: 0.0927 - accuracy: 0.9724 - val_loss: 0.0975 - val_accuracy: 0.9751\n",
      "Epoch 19/30\n",
      "60000/60000 [==============================] - 2s 28us/step - loss: 0.0880 - accuracy: 0.9747 - val_loss: 0.1036 - val_accuracy: 0.9740\n",
      "Epoch 20/30\n",
      "60000/60000 [==============================] - 2s 30us/step - loss: 0.0896 - accuracy: 0.9740 - val_loss: 0.0996 - val_accuracy: 0.9745\n",
      "Epoch 21/30\n",
      "60000/60000 [==============================] - 2s 26us/step - loss: 0.0895 - accuracy: 0.9740 - val_loss: 0.0997 - val_accuracy: 0.9748\n",
      "Epoch 22/30\n",
      "60000/60000 [==============================] - 1s 25us/step - loss: 0.0860 - accuracy: 0.9751 - val_loss: 0.1022 - val_accuracy: 0.9741\n",
      "Epoch 23/30\n",
      "60000/60000 [==============================] - 2s 25us/step - loss: 0.0863 - accuracy: 0.9752 - val_loss: 0.1001 - val_accuracy: 0.9743\n",
      "Epoch 24/30\n",
      "60000/60000 [==============================] - 2s 26us/step - loss: 0.0849 - accuracy: 0.9755 - val_loss: 0.0965 - val_accuracy: 0.9749\n",
      "Epoch 25/30\n",
      "60000/60000 [==============================] - 2s 27us/step - loss: 0.0821 - accuracy: 0.9760 - val_loss: 0.1033 - val_accuracy: 0.9746\n",
      "Epoch 26/30\n",
      "60000/60000 [==============================] - 2s 26us/step - loss: 0.0822 - accuracy: 0.9758 - val_loss: 0.1012 - val_accuracy: 0.9742\n",
      "Epoch 27/30\n",
      "60000/60000 [==============================] - 2s 25us/step - loss: 0.0810 - accuracy: 0.9763 - val_loss: 0.1007 - val_accuracy: 0.9759\n",
      "Epoch 28/30\n",
      "60000/60000 [==============================] - 2s 25us/step - loss: 0.0812 - accuracy: 0.9759 - val_loss: 0.0965 - val_accuracy: 0.9772\n",
      "Epoch 29/30\n",
      "60000/60000 [==============================] - 2s 26us/step - loss: 0.0790 - accuracy: 0.9775 - val_loss: 0.1032 - val_accuracy: 0.9755\n",
      "Epoch 30/30\n",
      "60000/60000 [==============================] - 2s 25us/step - loss: 0.0795 - accuracy: 0.9773 - val_loss: 0.1013 - val_accuracy: 0.9763\n"
     ]
    }
   ],
   "source": [
    "# And now let's fit.\n",
    "\n",
    "batch_size = 128  # mini-batch with 128 examples\n",
    "epochs = 30\n",
    "history = model_1.fit(\n",
    "    x_train, y_train,\n",
    "    batch_size=64,\n",
    "    epochs=epochs,\n",
    "    verbose=1,\n",
    "    validation_data=(x_test, y_test))"
   ]
  },
  {
   "cell_type": "code",
   "execution_count": 31,
   "metadata": {},
   "outputs": [
    {
     "name": "stdout",
     "output_type": "stream",
     "text": [
      "Test loss: 0.10126713373079983\n",
      "Test accuracy: 0.9763000011444092\n"
     ]
    }
   ],
   "source": [
    "## We will use Keras evaluate function to evaluate performance on the test set\n",
    "\n",
    "score = model_1.evaluate(x_test, y_test, verbose=0)\n",
    "print('Test loss:', score[0])\n",
    "print('Test accuracy:', score[1])"
   ]
  },
  {
   "cell_type": "code",
   "execution_count": 35,
   "metadata": {},
   "outputs": [
    {
     "data": {
      "image/png": "[encoded data removed]",
      "text/plain": [
       "<Figure size 864x432 with 2 Axes>"
      ]
     },
     "metadata": {
      "needs_background": "light"
     },
     "output_type": "display_data"
    }
   ],
   "source": [
    "def plot_loss_accuracy(history):\n",
    "    fig = plt.figure(figsize=(12, 6))\n",
    "    ax = fig.add_subplot(1, 2, 1)\n",
    "    ax.plot(history.history[\"loss\"],'r-x', label=\"Train Loss\")\n",
    "    ax.plot(history.history[\"val_loss\"],'b-x', label=\"Validation Loss\")\n",
    "    ax.legend()\n",
    "    ax.set_title('cross_entropy loss')\n",
    "    ax.grid(True)\n",
    "\n",
    "\n",
    "    ax = fig.add_subplot(1, 2, 2)\n",
    "    ax.plot(history.history[\"accuracy\"],'r-x', label=\"Train Accuracy\")\n",
    "    ax.plot(history.history[\"val_accuracy\"],'b-x', label=\"Validation Accuracy\")\n",
    "    ax.legend()\n",
    "    ax.set_title('accuracy')\n",
    "    ax.grid(True)\n",
    "    \n",
    "plot_loss_accuracy(history)"
   ]
  },
  {
   "cell_type": "markdown",
   "metadata": {},
   "source": [
    "This is reasonably good performance, but we can do even better!  Next you will build an even bigger network and compare the performance."
   ]
  },
  {
   "cell_type": "markdown",
   "metadata": {},
   "source": [
    "## Exercise\n",
    "### Your Turn: Build your own model\n",
    "Use the Keras \"Sequential\" functionality to build `model_2` with the following specifications:\n",
    "\n",
    "1. Two hidden layers.\n",
    "2. First hidden layer of size 400 and second of size 300\n",
    "3. Dropout of .4 at each layer\n",
    "4. How many parameters does your model have?  How does it compare with the previous model?\n",
    "    - 437,310 vs 55,050. Enlarged approximatly 8 times.\n",
    "5. Train this model for 20 epochs with RMSProp at a learning rate of .001 and a batch size of 128\n",
    "\n",
    "\n"
   ]
  },
  {
   "cell_type": "code",
   "execution_count": 36,
   "metadata": {},
   "outputs": [
    {
     "name": "stdout",
     "output_type": "stream",
     "text": [
      "Model: \"sequential_4\"\n",
      "_________________________________________________________________\n",
      "Layer (type)                 Output Shape              Param #   \n",
      "=================================================================\n",
      "dense_10 (Dense)             (None, 400)               314000    \n",
      "_________________________________________________________________\n",
      "dropout_7 (Dropout)          (None, 400)               0         \n",
      "_________________________________________________________________\n",
      "dense_11 (Dense)             (None, 300)               120300    \n",
      "_________________________________________________________________\n",
      "dropout_8 (Dropout)          (None, 300)               0         \n",
      "_________________________________________________________________\n",
      "dense_12 (Dense)             (None, 10)                3010      \n",
      "=================================================================\n",
      "Total params: 437,310\n",
      "Trainable params: 437,310\n",
      "Non-trainable params: 0\n",
      "_________________________________________________________________\n"
     ]
    }
   ],
   "source": [
    "### Build your model here\n",
    "model_2 = Sequential()\n",
    "\n",
    "# two hidden layers of size 400 and 300 with 0.4 droprate\n",
    "model_2.add(Dense(400, activation='relu', input_shape=(784,)))\n",
    "model_2.add(Dropout(0.4))\n",
    "model_2.add(Dense(300, activation='relu'))\n",
    "model_2.add(Dropout(0.4))\n",
    "# output layer\n",
    "model_2.add(Dense(10, activation='softmax'))\n",
    "\n",
    "model_2.summary()"
   ]
  },
  {
   "cell_type": "code",
   "execution_count": 37,
   "metadata": {},
   "outputs": [
    {
     "name": "stdout",
     "output_type": "stream",
     "text": [
      "Train on 60000 samples, validate on 10000 samples\n",
      "Epoch 1/20\n",
      "60000/60000 [==============================] - 5s 88us/step - loss: 0.3306 - accuracy: 0.9000 - val_loss: 0.1204 - val_accuracy: 0.9629\n",
      "Epoch 2/20\n",
      "60000/60000 [==============================] - 5s 85us/step - loss: 0.1517 - accuracy: 0.9546 - val_loss: 0.1034 - val_accuracy: 0.9678\n",
      "Epoch 3/20\n",
      "60000/60000 [==============================] - 6s 100us/step - loss: 0.1182 - accuracy: 0.9652 - val_loss: 0.0887 - val_accuracy: 0.9744\n",
      "Epoch 4/20\n",
      "60000/60000 [==============================] - 5s 83us/step - loss: 0.1027 - accuracy: 0.9694 - val_loss: 0.0840 - val_accuracy: 0.9768\n",
      "Epoch 5/20\n",
      "60000/60000 [==============================] - 5s 85us/step - loss: 0.0907 - accuracy: 0.9737 - val_loss: 0.0759 - val_accuracy: 0.9790\n",
      "Epoch 6/20\n",
      "60000/60000 [==============================] - 5s 78us/step - loss: 0.0834 - accuracy: 0.9762 - val_loss: 0.0812 - val_accuracy: 0.9776\n",
      "Epoch 7/20\n",
      "60000/60000 [==============================] - 5s 82us/step - loss: 0.0758 - accuracy: 0.9786 - val_loss: 0.0781 - val_accuracy: 0.9818\n",
      "Epoch 8/20\n",
      "60000/60000 [==============================] - 5s 84us/step - loss: 0.0713 - accuracy: 0.9800 - val_loss: 0.0851 - val_accuracy: 0.9789\n",
      "Epoch 9/20\n",
      "60000/60000 [==============================] - 5s 83us/step - loss: 0.0680 - accuracy: 0.9811 - val_loss: 0.0856 - val_accuracy: 0.9813\n",
      "Epoch 10/20\n",
      "60000/60000 [==============================] - 5s 83us/step - loss: 0.0644 - accuracy: 0.9826 - val_loss: 0.0820 - val_accuracy: 0.9804\n",
      "Epoch 11/20\n",
      "60000/60000 [==============================] - 5s 85us/step - loss: 0.0634 - accuracy: 0.9823 - val_loss: 0.0872 - val_accuracy: 0.9826\n",
      "Epoch 12/20\n",
      "60000/60000 [==============================] - 5s 87us/step - loss: 0.0641 - accuracy: 0.9828 - val_loss: 0.0863 - val_accuracy: 0.9830\n",
      "Epoch 13/20\n",
      "60000/60000 [==============================] - 5s 88us/step - loss: 0.0614 - accuracy: 0.9838 - val_loss: 0.0908 - val_accuracy: 0.9820\n",
      "Epoch 14/20\n",
      "60000/60000 [==============================] - 5s 87us/step - loss: 0.0568 - accuracy: 0.9845 - val_loss: 0.0928 - val_accuracy: 0.9815\n",
      "Epoch 15/20\n",
      "60000/60000 [==============================] - 5s 86us/step - loss: 0.0570 - accuracy: 0.9853 - val_loss: 0.0875 - val_accuracy: 0.9824\n",
      "Epoch 16/20\n",
      "60000/60000 [==============================] - 5s 87us/step - loss: 0.0525 - accuracy: 0.9858 - val_loss: 0.1067 - val_accuracy: 0.9816\n",
      "Epoch 17/20\n",
      "60000/60000 [==============================] - 5s 86us/step - loss: 0.0545 - accuracy: 0.9858 - val_loss: 0.1035 - val_accuracy: 0.9809\n",
      "Epoch 18/20\n",
      "60000/60000 [==============================] - 5s 90us/step - loss: 0.0486 - accuracy: 0.9866 - val_loss: 0.1103 - val_accuracy: 0.9815\n",
      "Epoch 19/20\n",
      "60000/60000 [==============================] - 6s 93us/step - loss: 0.0513 - accuracy: 0.9869 - val_loss: 0.1000 - val_accuracy: 0.9817\n",
      "Epoch 20/20\n",
      "60000/60000 [==============================] - 6s 101us/step - loss: 0.0484 - accuracy: 0.9872 - val_loss: 0.1013 - val_accuracy: 0.9835\n",
      "Test loss: 0.10126760576680165\n",
      "Test accuracy: 0.9835000038146973\n"
     ]
    }
   ],
   "source": [
    "batch_size_2 = 128\n",
    "epochs_2 = 20\n",
    "learning_rate_2 = .001\n",
    "\n",
    "model_2.compile(loss='categorical_crossentropy',\n",
    "              optimizer=RMSprop(lr=learning_rate_2),\n",
    "              metrics=['accuracy'])\n",
    "\n",
    "history = model_2.fit(x_train, y_train,\n",
    "                    batch_size=batch_size_2,\n",
    "                    epochs=epochs_2,\n",
    "                    verbose=1,\n",
    "                    validation_data=(x_test, y_test))\n",
    "score = model_2.evaluate(x_test, y_test, verbose=0)\n",
    "print('Test loss:', score[0])\n",
    "print('Test accuracy:', score[1])"
   ]
  },
  {
   "cell_type": "code",
   "execution_count": 38,
   "metadata": {},
   "outputs": [
    {
     "data": {
      "image/png": "[encoded data removed]",
      "text/plain": [
       "<Figure size 864x432 with 2 Axes>"
      ]
     },
     "metadata": {
      "needs_background": "light"
     },
     "output_type": "display_data"
    }
   ],
   "source": [
    "plot_loss_accuracy(history)"
   ]
  },
  {
   "cell_type": "markdown",
   "metadata": {
    "collapsed": true
   },
   "source": [
    "## Think about the following questions\n",
    "\n",
    "1) How do model_1 and model_2 compare?  Which do you prefer?  If you were going to put one into production, which would you choose and why?\n",
    "\n",
    "2) Compare the trajectories of the loss function on the training set and test set for each model?  How do they compare?  What does that suggest about each model?  Do the same for accuracy?  Which do you think is more meaningful, the loss or the accuracy?\n",
    "\n",
    "3) Suggest an improvement to one of the models (changing structure, learning rate, number of epochs, etc.) that you think will result in a better model.  Try it out below?  Did it improve the performance?"
   ]
  },
  {
   "cell_type": "markdown",
   "metadata": {
    "collapsed": true
   },
   "source": [
    "Ans:\n",
    "\n",
    "1. model_1 is my perferrance, It is more suitable for production environment for better performance. \n",
    "    - model_1 takes about 1 minute to train while model_2 takes 110 seconds.\n",
    "    - model_1 has a more compact stracture that contains only one eighth params of model_2\n",
    "    - model_1 reached a pretty high accuracy to 97.63% and model_2 is 98.35%, just a bit higher of model_1\n",
    "    \n",
    "\n",
    "2. trajectories of training set is more smooth than test set of both models, while in model_1, the lose crave convergences faster, which suggests that model_1 gets a better performance when training and a pretty good quality as result. The accuracy shows the same features. Accuracy is more meaningful for showing the quality of model."
   ]
  },
  {
   "cell_type": "markdown",
   "metadata": {},
   "source": [
    "3. compared with model_2, model_3 changes the batch_size_3 to 256.\n",
    "    - as the result shows, the accuracy and loss are close to model_2, however, the performance is improved by 40%."
   ]
  },
  {
   "cell_type": "code",
   "execution_count": 48,
   "metadata": {},
   "outputs": [
    {
     "name": "stdout",
     "output_type": "stream",
     "text": [
      "Train on 60000 samples, validate on 10000 samples\n",
      "Epoch 1/20\n",
      "60000/60000 [==============================] - 3s 54us/step - loss: 0.3049 - accuracy: 0.9069 - val_loss: 0.1572 - val_accuracy: 0.9534\n",
      "Epoch 2/20\n",
      "60000/60000 [==============================] - 3s 49us/step - loss: 0.1118 - accuracy: 0.9664 - val_loss: 0.1071 - val_accuracy: 0.9652\n",
      "Epoch 3/20\n",
      "60000/60000 [==============================] - 3s 53us/step - loss: 0.0727 - accuracy: 0.9771 - val_loss: 0.0753 - val_accuracy: 0.9767\n",
      "Epoch 4/20\n",
      "60000/60000 [==============================] - 3s 51us/step - loss: 0.0562 - accuracy: 0.9825 - val_loss: 0.0704 - val_accuracy: 0.9786\n",
      "Epoch 5/20\n",
      "60000/60000 [==============================] - 3s 51us/step - loss: 0.0407 - accuracy: 0.9876 - val_loss: 0.0703 - val_accuracy: 0.9784\n",
      "Epoch 6/20\n",
      "60000/60000 [==============================] - 3s 52us/step - loss: 0.0346 - accuracy: 0.9892 - val_loss: 0.0642 - val_accuracy: 0.9810\n",
      "Epoch 7/20\n",
      "60000/60000 [==============================] - 4s 62us/step - loss: 0.0279 - accuracy: 0.9904 - val_loss: 0.0682 - val_accuracy: 0.9818\n",
      "Epoch 8/20\n",
      "60000/60000 [==============================] - 4s 58us/step - loss: 0.0230 - accuracy: 0.9925 - val_loss: 0.0677 - val_accuracy: 0.9822\n",
      "Epoch 9/20\n",
      "60000/60000 [==============================] - 4s 64us/step - loss: 0.0198 - accuracy: 0.9936 - val_loss: 0.0696 - val_accuracy: 0.9824\n",
      "Epoch 10/20\n",
      "60000/60000 [==============================] - 3s 58us/step - loss: 0.0165 - accuracy: 0.9942 - val_loss: 0.0745 - val_accuracy: 0.9825\n",
      "Epoch 11/20\n",
      "60000/60000 [==============================] - 3s 55us/step - loss: 0.0153 - accuracy: 0.9953 - val_loss: 0.0725 - val_accuracy: 0.9832\n",
      "Epoch 12/20\n",
      "60000/60000 [==============================] - 4s 61us/step - loss: 0.0133 - accuracy: 0.9957 - val_loss: 0.0764 - val_accuracy: 0.9827\n",
      "Epoch 13/20\n",
      "60000/60000 [==============================] - 4s 59us/step - loss: 0.0115 - accuracy: 0.9961 - val_loss: 0.0766 - val_accuracy: 0.9837\n",
      "Epoch 14/20\n",
      "60000/60000 [==============================] - 3s 55us/step - loss: 0.0109 - accuracy: 0.9965 - val_loss: 0.0839 - val_accuracy: 0.9827\n",
      "Epoch 15/20\n",
      "60000/60000 [==============================] - 4s 61us/step - loss: 0.0114 - accuracy: 0.9961 - val_loss: 0.0870 - val_accuracy: 0.9836\n",
      "Epoch 16/20\n",
      "60000/60000 [==============================] - 3s 57us/step - loss: 0.0082 - accuracy: 0.9973 - val_loss: 0.0969 - val_accuracy: 0.9826\n",
      "Epoch 17/20\n",
      "60000/60000 [==============================] - 4s 61us/step - loss: 0.0081 - accuracy: 0.9973 - val_loss: 0.1030 - val_accuracy: 0.9817\n",
      "Epoch 18/20\n",
      "60000/60000 [==============================] - 3s 55us/step - loss: 0.0082 - accuracy: 0.9970 - val_loss: 0.0905 - val_accuracy: 0.9834\n",
      "Epoch 19/20\n",
      "60000/60000 [==============================] - 3s 58us/step - loss: 0.0082 - accuracy: 0.9970 - val_loss: 0.0919 - val_accuracy: 0.9831\n",
      "Epoch 20/20\n",
      "60000/60000 [==============================] - 4s 65us/step - loss: 0.0067 - accuracy: 0.9978 - val_loss: 0.1098 - val_accuracy: 0.9827\n",
      "\n",
      "Test loss: 0.10976069124133576\n",
      "Test accuracy: 0.982699990272522\n"
     ]
    },
    {
     "data": {
      "image/png": "[encoded data removed]",
      "text/plain": [
       "<Figure size 864x432 with 2 Axes>"
      ]
     },
     "metadata": {
      "needs_background": "light"
     },
     "output_type": "display_data"
    }
   ],
   "source": [
    "model_3 = Sequential()\n",
    "model_3.add(Dense(400, activation='relu', input_shape=(784,)))\n",
    "model_3.add(Dropout(0.1))\n",
    "model_3.add(Dense(300, activation='relu', input_shape=(784,)))\n",
    "model_3.add(Dropout(0.1))\n",
    "model_3.add(Dense(10, activation='softmax'))\n",
    "\n",
    "batch_size_3 = 256\n",
    "epochs_3 = 20\n",
    "learning_rate_3 = .001\n",
    "\n",
    "\n",
    "model_3.compile(loss='categorical_crossentropy',\n",
    "              optimizer=RMSprop(lr=learning_rate_3),\n",
    "              metrics=['accuracy'])\n",
    "\n",
    "history = model_3.fit(x_train, y_train,\n",
    "                    batch_size=batch_size_3,\n",
    "                    epochs=epochs_3,\n",
    "                    verbose=1,\n",
    "                    validation_data=(x_test, y_test))\n",
    "score = model_3.evaluate(x_test, y_test, verbose=0)\n",
    "print('')\n",
    "print('Test loss:', score[0])\n",
    "print('Test accuracy:', score[1])\n",
    "plot_loss_accuracy(history)"
   ]
  },
  {
   "cell_type": "code",
   "execution_count": null,
   "metadata": {},
   "outputs": [],
   "source": []
  }
 ],
 "metadata": {
  "kernelspec": {
   "display_name": "Python 3",
   "language": "python",
   "name": "python3"
  },
  "language_info": {
   "codemirror_mode": {
    "name": "ipython",
    "version": 3
   },
   "file_extension": ".py",
   "mimetype": "text/x-python",
   "name": "python",
   "nbconvert_exporter": "python",
   "pygments_lexer": "ipython3",
   "version": "3.7.4"
  }
 },
 "nbformat": 4,
 "nbformat_minor": 1
}
